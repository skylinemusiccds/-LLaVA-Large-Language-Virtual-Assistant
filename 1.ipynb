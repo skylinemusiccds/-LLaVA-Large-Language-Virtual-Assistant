{
 "cells": [
  {
   "cell_type": "code",
   "execution_count": 16,
   "metadata": {},
   "outputs": [
    {
     "name": "stdout",
     "output_type": "stream",
     "text": [
      "Requirement already satisfied: replicate in /opt/python/3.10.8/lib/python3.10/site-packages (0.11.0)\n",
      "Requirement already satisfied: packaging in /home/codespace/.local/lib/python3.10/site-packages (from replicate) (23.1)\n",
      "Requirement already satisfied: pydantic>1 in /opt/python/3.10.8/lib/python3.10/site-packages (from replicate) (2.1.1)\n",
      "Requirement already satisfied: requests>2 in /home/codespace/.local/lib/python3.10/site-packages (from replicate) (2.31.0)\n",
      "Requirement already satisfied: annotated-types>=0.4.0 in /opt/python/3.10.8/lib/python3.10/site-packages (from pydantic>1->replicate) (0.5.0)\n",
      "Requirement already satisfied: pydantic-core==2.4.0 in /opt/python/3.10.8/lib/python3.10/site-packages (from pydantic>1->replicate) (2.4.0)\n",
      "Requirement already satisfied: typing-extensions>=4.6.1 in /home/codespace/.local/lib/python3.10/site-packages (from pydantic>1->replicate) (4.7.1)\n",
      "Requirement already satisfied: charset-normalizer<4,>=2 in /home/codespace/.local/lib/python3.10/site-packages (from requests>2->replicate) (3.1.0)\n",
      "Requirement already satisfied: idna<4,>=2.5 in /home/codespace/.local/lib/python3.10/site-packages (from requests>2->replicate) (3.4)\n",
      "Requirement already satisfied: urllib3<3,>=1.21.1 in /home/codespace/.local/lib/python3.10/site-packages (from requests>2->replicate) (2.0.3)\n",
      "Requirement already satisfied: certifi>=2017.4.17 in /home/codespace/.local/lib/python3.10/site-packages (from requests>2->replicate) (2023.5.7)\n"
     ]
    }
   ],
   "source": [
    "!pip install replicate"
   ]
  },
  {
   "cell_type": "code",
   "execution_count": 17,
   "metadata": {},
   "outputs": [],
   "source": [
    "# get a token: https://replicate.com/account\n",
    "from getpass import getpass\n",
    "import os\n",
    "\n",
    "REPLICATE_API_TOKEN = getpass()\n",
    "os.environ[\"REPLICATE_API_TOKEN\"] = r8_6y1r03mreETjEJALHFCGfWAKzTbCF9r0Rv5sj"
   ]
  },
  {
   "cell_type": "code",
   "execution_count": 18,
   "metadata": {},
   "outputs": [
    {
     "name": "stdout",
     "output_type": "stream",
     "text": [
      "Dolly the sheep was a sheep who became famous when she was cloned in 1997. The wool from her clone, Dolly, now sells for large sums of money on markets around the world.\n",
      "\n"
     ]
    }
   ],
   "source": [
    "iterator = replicate.run(\n",
    "  \"replicate/dolly-v2-12b:ef0e1aefc61f8e096ebe4db6b2bacc297daf2ef6899f0f7e001ec445893500e5\",\n",
    "  input={\"prompt\": \"Who was Dolly the sheep?\"},\n",
    ")\n",
    "for text in iterator:\n",
    "      print(text,end=\"\")"
   ]
  },
  {
   "cell_type": "code",
   "execution_count": 15,
   "metadata": {},
   "outputs": [
    {
     "name": "stdout",
     "output_type": "stream",
     "text": [
      "make: *** No targets specified and no makefile found.  Stop.\n",
      "make: *** No rule to make target 'install'.  Stop.\n"
     ]
    }
   ],
   "source": [
    "!make\n",
    "!sudo make install"
   ]
  },
  {
   "cell_type": "code",
   "execution_count": null,
   "metadata": {},
   "outputs": [],
   "source": []
  }
 ],
 "metadata": {
  "kernelspec": {
   "display_name": "Python 3",
   "language": "python",
   "name": "python3"
  },
  "language_info": {
   "codemirror_mode": {
    "name": "ipython",
    "version": 3
   },
   "file_extension": ".py",
   "mimetype": "text/x-python",
   "name": "python",
   "nbconvert_exporter": "python",
   "pygments_lexer": "ipython3",
   "version": "3.10.8"
  },
  "orig_nbformat": 4
 },
 "nbformat": 4,
 "nbformat_minor": 2
}
